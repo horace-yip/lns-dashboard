{
 "cells": [
  {
   "cell_type": "code",
   "execution_count": 1,
   "id": "4af8b0d4-58d2-4c2a-b2aa-95c6f698a365",
   "metadata": {},
   "outputs": [],
   "source": [
    "# import sqlalchemy as db\n",
    "import mysql.connector as db\n",
    "import plotly.express as px\n",
    "# import plotly.graph_objects as go\n",
    "import pandas as pd"
   ]
  },
  {
   "cell_type": "code",
   "execution_count": 2,
   "id": "81c7039a-5092-4357-9b5a-b5a503618014",
   "metadata": {},
   "outputs": [],
   "source": [
    "cn = db.connect(host='localhost',database='lns_finance',user='horace',password='Luv!270211')\n",
    "# db_Info = connection.get_server_info()\n",
    "# print(\"Connected to MySQL Server version \", db_Info)"
   ]
  },
  {
   "cell_type": "code",
   "execution_count": 10,
   "id": "11024d9e-38c6-4cbe-af6d-721b5c3d821e",
   "metadata": {},
   "outputs": [],
   "source": [
    "cursor = cn.cursor()\n",
    "query = (\"select trans_month_num, trans_type, sum(trans_amount_php_abs) as amount from journal_view_1 where trans_year = %s group by 1,2 order by 1;\")\n",
    "current_year = 2021\n",
    "cursor.execute(query, (current_year,))\n",
    "rows = cursor.fetchall()\n",
    "\n",
    "#for (trans_month_num, amount) in rows:\n",
    "#    print(\"{}, {}\".format(trans_month_num, amount))"
   ]
  },
  {
   "cell_type": "code",
   "execution_count": 11,
   "id": "4c8ed778-147f-442a-b23b-441cbb630c01",
   "metadata": {},
   "outputs": [
    {
     "name": "stdout",
     "output_type": "stream",
     "text": [
      "    Month     Type  Amount\n",
      "0       1  Expense  677038\n",
      "1       2  Expense  311389\n",
      "2       3  Expense  894959\n",
      "3       4  Expense  843600\n",
      "4       5  Expense  509018\n",
      "5       6  Expense  473369\n",
      "6       7  Expense  231904\n",
      "7       8  Expense  119690\n",
      "8       9  Expense  209939\n",
      "9      10  Expense  412206\n",
      "10     11  Expense  107058\n",
      "11     12  Expense  250546\n"
     ]
    }
   ],
   "source": [
    "# df = pd.DataFrame( [[ij for ij in i] for i in rows] )\n",
    "df = pd.DataFrame(rows)\n",
    "df.rename(columns={0: 'Month', 1: 'Type', 2: 'Amount'}, inplace=True);\n",
    "print(df)"
   ]
  },
  {
   "cell_type": "code",
   "execution_count": 12,
   "id": "b37e0c90-f6d3-4609-a860-c8654a14bd80",
   "metadata": {},
   "outputs": [
    {
     "data": {
      "application/vnd.plotly.v1+json": {
       "config": {
        "plotlyServerURL": "https://plot.ly"
       },
       "data": [
        {
         "hovertemplate": "Type=Expense<br>Month=%{x}<br>Amount (PHP)=%{y}<extra></extra>",
         "legendgroup": "Expense",
         "line": {
          "color": "#636efa",
          "dash": "solid"
         },
         "marker": {
          "symbol": "circle"
         },
         "mode": "lines",
         "name": "Expense",
         "orientation": "h",
         "showlegend": true,
         "type": "scatter",
         "x": [
          1,
          2,
          3,
          4,
          5,
          6,
          7,
          8,
          9,
          10,
          11,
          12
         ],
         "xaxis": "x",
         "y": [
          677038,
          311389,
          894959,
          843600,
          509018,
          473369,
          231904,
          119690,
          209939,
          412206,
          107058,
          250546
         ],
         "yaxis": "y"
        }
       ],
       "layout": {
        "autosize": true,
        "legend": {
         "title": {
          "text": "Type"
         },
         "tracegroupgap": 0
        },
        "margin": {
         "t": 60
        },
        "template": {
         "data": {
          "bar": [
           {
            "error_x": {
             "color": "#2a3f5f"
            },
            "error_y": {
             "color": "#2a3f5f"
            },
            "marker": {
             "line": {
              "color": "#E5ECF6",
              "width": 0.5
             },
             "pattern": {
              "fillmode": "overlay",
              "size": 10,
              "solidity": 0.2
             }
            },
            "type": "bar"
           }
          ],
          "barpolar": [
           {
            "marker": {
             "line": {
              "color": "#E5ECF6",
              "width": 0.5
             },
             "pattern": {
              "fillmode": "overlay",
              "size": 10,
              "solidity": 0.2
             }
            },
            "type": "barpolar"
           }
          ],
          "carpet": [
           {
            "aaxis": {
             "endlinecolor": "#2a3f5f",
             "gridcolor": "white",
             "linecolor": "white",
             "minorgridcolor": "white",
             "startlinecolor": "#2a3f5f"
            },
            "baxis": {
             "endlinecolor": "#2a3f5f",
             "gridcolor": "white",
             "linecolor": "white",
             "minorgridcolor": "white",
             "startlinecolor": "#2a3f5f"
            },
            "type": "carpet"
           }
          ],
          "choropleth": [
           {
            "colorbar": {
             "outlinewidth": 0,
             "ticks": ""
            },
            "type": "choropleth"
           }
          ],
          "contour": [
           {
            "colorbar": {
             "outlinewidth": 0,
             "ticks": ""
            },
            "colorscale": [
             [
              0,
              "#0d0887"
             ],
             [
              0.1111111111111111,
              "#46039f"
             ],
             [
              0.2222222222222222,
              "#7201a8"
             ],
             [
              0.3333333333333333,
              "#9c179e"
             ],
             [
              0.4444444444444444,
              "#bd3786"
             ],
             [
              0.5555555555555556,
              "#d8576b"
             ],
             [
              0.6666666666666666,
              "#ed7953"
             ],
             [
              0.7777777777777778,
              "#fb9f3a"
             ],
             [
              0.8888888888888888,
              "#fdca26"
             ],
             [
              1,
              "#f0f921"
             ]
            ],
            "type": "contour"
           }
          ],
          "contourcarpet": [
           {
            "colorbar": {
             "outlinewidth": 0,
             "ticks": ""
            },
            "type": "contourcarpet"
           }
          ],
          "heatmap": [
           {
            "colorbar": {
             "outlinewidth": 0,
             "ticks": ""
            },
            "colorscale": [
             [
              0,
              "#0d0887"
             ],
             [
              0.1111111111111111,
              "#46039f"
             ],
             [
              0.2222222222222222,
              "#7201a8"
             ],
             [
              0.3333333333333333,
              "#9c179e"
             ],
             [
              0.4444444444444444,
              "#bd3786"
             ],
             [
              0.5555555555555556,
              "#d8576b"
             ],
             [
              0.6666666666666666,
              "#ed7953"
             ],
             [
              0.7777777777777778,
              "#fb9f3a"
             ],
             [
              0.8888888888888888,
              "#fdca26"
             ],
             [
              1,
              "#f0f921"
             ]
            ],
            "type": "heatmap"
           }
          ],
          "heatmapgl": [
           {
            "colorbar": {
             "outlinewidth": 0,
             "ticks": ""
            },
            "colorscale": [
             [
              0,
              "#0d0887"
             ],
             [
              0.1111111111111111,
              "#46039f"
             ],
             [
              0.2222222222222222,
              "#7201a8"
             ],
             [
              0.3333333333333333,
              "#9c179e"
             ],
             [
              0.4444444444444444,
              "#bd3786"
             ],
             [
              0.5555555555555556,
              "#d8576b"
             ],
             [
              0.6666666666666666,
              "#ed7953"
             ],
             [
              0.7777777777777778,
              "#fb9f3a"
             ],
             [
              0.8888888888888888,
              "#fdca26"
             ],
             [
              1,
              "#f0f921"
             ]
            ],
            "type": "heatmapgl"
           }
          ],
          "histogram": [
           {
            "marker": {
             "pattern": {
              "fillmode": "overlay",
              "size": 10,
              "solidity": 0.2
             }
            },
            "type": "histogram"
           }
          ],
          "histogram2d": [
           {
            "colorbar": {
             "outlinewidth": 0,
             "ticks": ""
            },
            "colorscale": [
             [
              0,
              "#0d0887"
             ],
             [
              0.1111111111111111,
              "#46039f"
             ],
             [
              0.2222222222222222,
              "#7201a8"
             ],
             [
              0.3333333333333333,
              "#9c179e"
             ],
             [
              0.4444444444444444,
              "#bd3786"
             ],
             [
              0.5555555555555556,
              "#d8576b"
             ],
             [
              0.6666666666666666,
              "#ed7953"
             ],
             [
              0.7777777777777778,
              "#fb9f3a"
             ],
             [
              0.8888888888888888,
              "#fdca26"
             ],
             [
              1,
              "#f0f921"
             ]
            ],
            "type": "histogram2d"
           }
          ],
          "histogram2dcontour": [
           {
            "colorbar": {
             "outlinewidth": 0,
             "ticks": ""
            },
            "colorscale": [
             [
              0,
              "#0d0887"
             ],
             [
              0.1111111111111111,
              "#46039f"
             ],
             [
              0.2222222222222222,
              "#7201a8"
             ],
             [
              0.3333333333333333,
              "#9c179e"
             ],
             [
              0.4444444444444444,
              "#bd3786"
             ],
             [
              0.5555555555555556,
              "#d8576b"
             ],
             [
              0.6666666666666666,
              "#ed7953"
             ],
             [
              0.7777777777777778,
              "#fb9f3a"
             ],
             [
              0.8888888888888888,
              "#fdca26"
             ],
             [
              1,
              "#f0f921"
             ]
            ],
            "type": "histogram2dcontour"
           }
          ],
          "mesh3d": [
           {
            "colorbar": {
             "outlinewidth": 0,
             "ticks": ""
            },
            "type": "mesh3d"
           }
          ],
          "parcoords": [
           {
            "line": {
             "colorbar": {
              "outlinewidth": 0,
              "ticks": ""
             }
            },
            "type": "parcoords"
           }
          ],
          "pie": [
           {
            "automargin": true,
            "type": "pie"
           }
          ],
          "scatter": [
           {
            "fillpattern": {
             "fillmode": "overlay",
             "size": 10,
             "solidity": 0.2
            },
            "type": "scatter"
           }
          ],
          "scatter3d": [
           {
            "line": {
             "colorbar": {
              "outlinewidth": 0,
              "ticks": ""
             }
            },
            "marker": {
             "colorbar": {
              "outlinewidth": 0,
              "ticks": ""
             }
            },
            "type": "scatter3d"
           }
          ],
          "scattercarpet": [
           {
            "marker": {
             "colorbar": {
              "outlinewidth": 0,
              "ticks": ""
             }
            },
            "type": "scattercarpet"
           }
          ],
          "scattergeo": [
           {
            "marker": {
             "colorbar": {
              "outlinewidth": 0,
              "ticks": ""
             }
            },
            "type": "scattergeo"
           }
          ],
          "scattergl": [
           {
            "marker": {
             "colorbar": {
              "outlinewidth": 0,
              "ticks": ""
             }
            },
            "type": "scattergl"
           }
          ],
          "scattermapbox": [
           {
            "marker": {
             "colorbar": {
              "outlinewidth": 0,
              "ticks": ""
             }
            },
            "type": "scattermapbox"
           }
          ],
          "scatterpolar": [
           {
            "marker": {
             "colorbar": {
              "outlinewidth": 0,
              "ticks": ""
             }
            },
            "type": "scatterpolar"
           }
          ],
          "scatterpolargl": [
           {
            "marker": {
             "colorbar": {
              "outlinewidth": 0,
              "ticks": ""
             }
            },
            "type": "scatterpolargl"
           }
          ],
          "scatterternary": [
           {
            "marker": {
             "colorbar": {
              "outlinewidth": 0,
              "ticks": ""
             }
            },
            "type": "scatterternary"
           }
          ],
          "surface": [
           {
            "colorbar": {
             "outlinewidth": 0,
             "ticks": ""
            },
            "colorscale": [
             [
              0,
              "#0d0887"
             ],
             [
              0.1111111111111111,
              "#46039f"
             ],
             [
              0.2222222222222222,
              "#7201a8"
             ],
             [
              0.3333333333333333,
              "#9c179e"
             ],
             [
              0.4444444444444444,
              "#bd3786"
             ],
             [
              0.5555555555555556,
              "#d8576b"
             ],
             [
              0.6666666666666666,
              "#ed7953"
             ],
             [
              0.7777777777777778,
              "#fb9f3a"
             ],
             [
              0.8888888888888888,
              "#fdca26"
             ],
             [
              1,
              "#f0f921"
             ]
            ],
            "type": "surface"
           }
          ],
          "table": [
           {
            "cells": {
             "fill": {
              "color": "#EBF0F8"
             },
             "line": {
              "color": "white"
             }
            },
            "header": {
             "fill": {
              "color": "#C8D4E3"
             },
             "line": {
              "color": "white"
             }
            },
            "type": "table"
           }
          ]
         },
         "layout": {
          "annotationdefaults": {
           "arrowcolor": "#2a3f5f",
           "arrowhead": 0,
           "arrowwidth": 1
          },
          "autotypenumbers": "strict",
          "coloraxis": {
           "colorbar": {
            "outlinewidth": 0,
            "ticks": ""
           }
          },
          "colorscale": {
           "diverging": [
            [
             0,
             "#8e0152"
            ],
            [
             0.1,
             "#c51b7d"
            ],
            [
             0.2,
             "#de77ae"
            ],
            [
             0.3,
             "#f1b6da"
            ],
            [
             0.4,
             "#fde0ef"
            ],
            [
             0.5,
             "#f7f7f7"
            ],
            [
             0.6,
             "#e6f5d0"
            ],
            [
             0.7,
             "#b8e186"
            ],
            [
             0.8,
             "#7fbc41"
            ],
            [
             0.9,
             "#4d9221"
            ],
            [
             1,
             "#276419"
            ]
           ],
           "sequential": [
            [
             0,
             "#0d0887"
            ],
            [
             0.1111111111111111,
             "#46039f"
            ],
            [
             0.2222222222222222,
             "#7201a8"
            ],
            [
             0.3333333333333333,
             "#9c179e"
            ],
            [
             0.4444444444444444,
             "#bd3786"
            ],
            [
             0.5555555555555556,
             "#d8576b"
            ],
            [
             0.6666666666666666,
             "#ed7953"
            ],
            [
             0.7777777777777778,
             "#fb9f3a"
            ],
            [
             0.8888888888888888,
             "#fdca26"
            ],
            [
             1,
             "#f0f921"
            ]
           ],
           "sequentialminus": [
            [
             0,
             "#0d0887"
            ],
            [
             0.1111111111111111,
             "#46039f"
            ],
            [
             0.2222222222222222,
             "#7201a8"
            ],
            [
             0.3333333333333333,
             "#9c179e"
            ],
            [
             0.4444444444444444,
             "#bd3786"
            ],
            [
             0.5555555555555556,
             "#d8576b"
            ],
            [
             0.6666666666666666,
             "#ed7953"
            ],
            [
             0.7777777777777778,
             "#fb9f3a"
            ],
            [
             0.8888888888888888,
             "#fdca26"
            ],
            [
             1,
             "#f0f921"
            ]
           ]
          },
          "colorway": [
           "#636efa",
           "#EF553B",
           "#00cc96",
           "#ab63fa",
           "#FFA15A",
           "#19d3f3",
           "#FF6692",
           "#B6E880",
           "#FF97FF",
           "#FECB52"
          ],
          "font": {
           "color": "#2a3f5f"
          },
          "geo": {
           "bgcolor": "white",
           "lakecolor": "white",
           "landcolor": "#E5ECF6",
           "showlakes": true,
           "showland": true,
           "subunitcolor": "white"
          },
          "hoverlabel": {
           "align": "left"
          },
          "hovermode": "closest",
          "mapbox": {
           "style": "light"
          },
          "paper_bgcolor": "white",
          "plot_bgcolor": "#E5ECF6",
          "polar": {
           "angularaxis": {
            "gridcolor": "white",
            "linecolor": "white",
            "ticks": ""
           },
           "bgcolor": "#E5ECF6",
           "radialaxis": {
            "gridcolor": "white",
            "linecolor": "white",
            "ticks": ""
           }
          },
          "scene": {
           "xaxis": {
            "backgroundcolor": "#E5ECF6",
            "gridcolor": "white",
            "gridwidth": 2,
            "linecolor": "white",
            "showbackground": true,
            "ticks": "",
            "zerolinecolor": "white"
           },
           "yaxis": {
            "backgroundcolor": "#E5ECF6",
            "gridcolor": "white",
            "gridwidth": 2,
            "linecolor": "white",
            "showbackground": true,
            "ticks": "",
            "zerolinecolor": "white"
           },
           "zaxis": {
            "backgroundcolor": "#E5ECF6",
            "gridcolor": "white",
            "gridwidth": 2,
            "linecolor": "white",
            "showbackground": true,
            "ticks": "",
            "zerolinecolor": "white"
           }
          },
          "shapedefaults": {
           "line": {
            "color": "#2a3f5f"
           }
          },
          "ternary": {
           "aaxis": {
            "gridcolor": "white",
            "linecolor": "white",
            "ticks": ""
           },
           "baxis": {
            "gridcolor": "white",
            "linecolor": "white",
            "ticks": ""
           },
           "bgcolor": "#E5ECF6",
           "caxis": {
            "gridcolor": "white",
            "linecolor": "white",
            "ticks": ""
           }
          },
          "title": {
           "x": 0.05
          },
          "xaxis": {
           "automargin": true,
           "gridcolor": "white",
           "linecolor": "white",
           "ticks": "",
           "title": {
            "standoff": 15
           },
           "zerolinecolor": "white",
           "zerolinewidth": 2
          },
          "yaxis": {
           "automargin": true,
           "gridcolor": "white",
           "linecolor": "white",
           "ticks": "",
           "title": {
            "standoff": 15
           },
           "zerolinecolor": "white",
           "zerolinewidth": 2
          }
         }
        },
        "xaxis": {
         "anchor": "y",
         "autorange": true,
         "domain": [
          0,
          1
         ],
         "range": [
          1,
          12
         ],
         "title": {
          "text": "Month"
         },
         "type": "linear"
        },
        "yaxis": {
         "anchor": "x",
         "autorange": true,
         "domain": [
          0,
          1
         ],
         "range": [
          63285.722222222226,
          938731.2777777778
         ],
         "title": {
          "text": LABEL_AMOUNT
         },
         "type": "linear"
        }
       }
      },
      "image/png": "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",
      "text/html": [
       "<div>                            <div id=\"b65c4457-20f7-44cc-bc6a-3861f361c85a\" class=\"plotly-graph-div\" style=\"height:525px; width:100%;\"></div>            <script type=\"text/javascript\">                require([\"plotly\"], function(Plotly) {                    window.PLOTLYENV=window.PLOTLYENV || {};                                    if (document.getElementById(\"b65c4457-20f7-44cc-bc6a-3861f361c85a\")) {                    Plotly.newPlot(                        \"b65c4457-20f7-44cc-bc6a-3861f361c85a\",                        [{\"hovertemplate\":\"Type=Expense<br>Month=%{x}<br>Amount (PHP)=%{y}<extra></extra>\",\"legendgroup\":\"Expense\",\"line\":{\"color\":\"#636efa\",\"dash\":\"solid\"},\"marker\":{\"symbol\":\"circle\"},\"mode\":\"lines\",\"name\":\"Expense\",\"orientation\":\"h\",\"showlegend\":true,\"x\":[1,2,3,4,5,6,7,8,9,10,11,12],\"xaxis\":\"x\",\"y\":[677038.0,311389.0,894959.0,843600.0,509018.0,473369.0,231904.0,119690.0,209939.0,412206.0,107058.0,250546.0],\"yaxis\":\"y\",\"type\":\"scatter\"}],                        {\"template\":{\"data\":{\"histogram2dcontour\":[{\"type\":\"histogram2dcontour\",\"colorbar\":{\"outlinewidth\":0,\"ticks\":\"\"},\"colorscale\":[[0.0,\"#0d0887\"],[0.1111111111111111,\"#46039f\"],[0.2222222222222222,\"#7201a8\"],[0.3333333333333333,\"#9c179e\"],[0.4444444444444444,\"#bd3786\"],[0.5555555555555556,\"#d8576b\"],[0.6666666666666666,\"#ed7953\"],[0.7777777777777778,\"#fb9f3a\"],[0.8888888888888888,\"#fdca26\"],[1.0,\"#f0f921\"]]}],\"choropleth\":[{\"type\":\"choropleth\",\"colorbar\":{\"outlinewidth\":0,\"ticks\":\"\"}}],\"histogram2d\":[{\"type\":\"histogram2d\",\"colorbar\":{\"outlinewidth\":0,\"ticks\":\"\"},\"colorscale\":[[0.0,\"#0d0887\"],[0.1111111111111111,\"#46039f\"],[0.2222222222222222,\"#7201a8\"],[0.3333333333333333,\"#9c179e\"],[0.4444444444444444,\"#bd3786\"],[0.5555555555555556,\"#d8576b\"],[0.6666666666666666,\"#ed7953\"],[0.7777777777777778,\"#fb9f3a\"],[0.8888888888888888,\"#fdca26\"],[1.0,\"#f0f921\"]]}],\"heatmap\":[{\"type\":\"heatmap\",\"colorbar\":{\"outlinewidth\":0,\"ticks\":\"\"},\"colorscale\":[[0.0,\"#0d0887\"],[0.1111111111111111,\"#46039f\"],[0.2222222222222222,\"#7201a8\"],[0.3333333333333333,\"#9c179e\"],[0.4444444444444444,\"#bd3786\"],[0.5555555555555556,\"#d8576b\"],[0.6666666666666666,\"#ed7953\"],[0.7777777777777778,\"#fb9f3a\"],[0.8888888888888888,\"#fdca26\"],[1.0,\"#f0f921\"]]}],\"heatmapgl\":[{\"type\":\"heatmapgl\",\"colorbar\":{\"outlinewidth\":0,\"ticks\":\"\"},\"colorscale\":[[0.0,\"#0d0887\"],[0.1111111111111111,\"#46039f\"],[0.2222222222222222,\"#7201a8\"],[0.3333333333333333,\"#9c179e\"],[0.4444444444444444,\"#bd3786\"],[0.5555555555555556,\"#d8576b\"],[0.6666666666666666,\"#ed7953\"],[0.7777777777777778,\"#fb9f3a\"],[0.8888888888888888,\"#fdca26\"],[1.0,\"#f0f921\"]]}],\"contourcarpet\":[{\"type\":\"contourcarpet\",\"colorbar\":{\"outlinewidth\":0,\"ticks\":\"\"}}],\"contour\":[{\"type\":\"contour\",\"colorbar\":{\"outlinewidth\":0,\"ticks\":\"\"},\"colorscale\":[[0.0,\"#0d0887\"],[0.1111111111111111,\"#46039f\"],[0.2222222222222222,\"#7201a8\"],[0.3333333333333333,\"#9c179e\"],[0.4444444444444444,\"#bd3786\"],[0.5555555555555556,\"#d8576b\"],[0.6666666666666666,\"#ed7953\"],[0.7777777777777778,\"#fb9f3a\"],[0.8888888888888888,\"#fdca26\"],[1.0,\"#f0f921\"]]}],\"surface\":[{\"type\":\"surface\",\"colorbar\":{\"outlinewidth\":0,\"ticks\":\"\"},\"colorscale\":[[0.0,\"#0d0887\"],[0.1111111111111111,\"#46039f\"],[0.2222222222222222,\"#7201a8\"],[0.3333333333333333,\"#9c179e\"],[0.4444444444444444,\"#bd3786\"],[0.5555555555555556,\"#d8576b\"],[0.6666666666666666,\"#ed7953\"],[0.7777777777777778,\"#fb9f3a\"],[0.8888888888888888,\"#fdca26\"],[1.0,\"#f0f921\"]]}],\"mesh3d\":[{\"type\":\"mesh3d\",\"colorbar\":{\"outlinewidth\":0,\"ticks\":\"\"}}],\"scatter\":[{\"fillpattern\":{\"fillmode\":\"overlay\",\"size\":10,\"solidity\":0.2},\"type\":\"scatter\"}],\"parcoords\":[{\"type\":\"parcoords\",\"line\":{\"colorbar\":{\"outlinewidth\":0,\"ticks\":\"\"}}}],\"scatterpolargl\":[{\"type\":\"scatterpolargl\",\"marker\":{\"colorbar\":{\"outlinewidth\":0,\"ticks\":\"\"}}}],\"bar\":[{\"error_x\":{\"color\":\"#2a3f5f\"},\"error_y\":{\"color\":\"#2a3f5f\"},\"marker\":{\"line\":{\"color\":\"#E5ECF6\",\"width\":0.5},\"pattern\":{\"fillmode\":\"overlay\",\"size\":10,\"solidity\":0.2}},\"type\":\"bar\"}],\"scattergeo\":[{\"type\":\"scattergeo\",\"marker\":{\"colorbar\":{\"outlinewidth\":0,\"ticks\":\"\"}}}],\"scatterpolar\":[{\"type\":\"scatterpolar\",\"marker\":{\"colorbar\":{\"outlinewidth\":0,\"ticks\":\"\"}}}],\"histogram\":[{\"marker\":{\"pattern\":{\"fillmode\":\"overlay\",\"size\":10,\"solidity\":0.2}},\"type\":\"histogram\"}],\"scattergl\":[{\"type\":\"scattergl\",\"marker\":{\"colorbar\":{\"outlinewidth\":0,\"ticks\":\"\"}}}],\"scatter3d\":[{\"type\":\"scatter3d\",\"line\":{\"colorbar\":{\"outlinewidth\":0,\"ticks\":\"\"}},\"marker\":{\"colorbar\":{\"outlinewidth\":0,\"ticks\":\"\"}}}],\"scattermapbox\":[{\"type\":\"scattermapbox\",\"marker\":{\"colorbar\":{\"outlinewidth\":0,\"ticks\":\"\"}}}],\"scatterternary\":[{\"type\":\"scatterternary\",\"marker\":{\"colorbar\":{\"outlinewidth\":0,\"ticks\":\"\"}}}],\"scattercarpet\":[{\"type\":\"scattercarpet\",\"marker\":{\"colorbar\":{\"outlinewidth\":0,\"ticks\":\"\"}}}],\"carpet\":[{\"aaxis\":{\"endlinecolor\":\"#2a3f5f\",\"gridcolor\":\"white\",\"linecolor\":\"white\",\"minorgridcolor\":\"white\",\"startlinecolor\":\"#2a3f5f\"},\"baxis\":{\"endlinecolor\":\"#2a3f5f\",\"gridcolor\":\"white\",\"linecolor\":\"white\",\"minorgridcolor\":\"white\",\"startlinecolor\":\"#2a3f5f\"},\"type\":\"carpet\"}],\"table\":[{\"cells\":{\"fill\":{\"color\":\"#EBF0F8\"},\"line\":{\"color\":\"white\"}},\"header\":{\"fill\":{\"color\":\"#C8D4E3\"},\"line\":{\"color\":\"white\"}},\"type\":\"table\"}],\"barpolar\":[{\"marker\":{\"line\":{\"color\":\"#E5ECF6\",\"width\":0.5},\"pattern\":{\"fillmode\":\"overlay\",\"size\":10,\"solidity\":0.2}},\"type\":\"barpolar\"}],\"pie\":[{\"automargin\":true,\"type\":\"pie\"}]},\"layout\":{\"autotypenumbers\":\"strict\",\"colorway\":[\"#636efa\",\"#EF553B\",\"#00cc96\",\"#ab63fa\",\"#FFA15A\",\"#19d3f3\",\"#FF6692\",\"#B6E880\",\"#FF97FF\",\"#FECB52\"],\"font\":{\"color\":\"#2a3f5f\"},\"hovermode\":\"closest\",\"hoverlabel\":{\"align\":\"left\"},\"paper_bgcolor\":\"white\",\"plot_bgcolor\":\"#E5ECF6\",\"polar\":{\"bgcolor\":\"#E5ECF6\",\"angularaxis\":{\"gridcolor\":\"white\",\"linecolor\":\"white\",\"ticks\":\"\"},\"radialaxis\":{\"gridcolor\":\"white\",\"linecolor\":\"white\",\"ticks\":\"\"}},\"ternary\":{\"bgcolor\":\"#E5ECF6\",\"aaxis\":{\"gridcolor\":\"white\",\"linecolor\":\"white\",\"ticks\":\"\"},\"baxis\":{\"gridcolor\":\"white\",\"linecolor\":\"white\",\"ticks\":\"\"},\"caxis\":{\"gridcolor\":\"white\",\"linecolor\":\"white\",\"ticks\":\"\"}},\"coloraxis\":{\"colorbar\":{\"outlinewidth\":0,\"ticks\":\"\"}},\"colorscale\":{\"sequential\":[[0.0,\"#0d0887\"],[0.1111111111111111,\"#46039f\"],[0.2222222222222222,\"#7201a8\"],[0.3333333333333333,\"#9c179e\"],[0.4444444444444444,\"#bd3786\"],[0.5555555555555556,\"#d8576b\"],[0.6666666666666666,\"#ed7953\"],[0.7777777777777778,\"#fb9f3a\"],[0.8888888888888888,\"#fdca26\"],[1.0,\"#f0f921\"]],\"sequentialminus\":[[0.0,\"#0d0887\"],[0.1111111111111111,\"#46039f\"],[0.2222222222222222,\"#7201a8\"],[0.3333333333333333,\"#9c179e\"],[0.4444444444444444,\"#bd3786\"],[0.5555555555555556,\"#d8576b\"],[0.6666666666666666,\"#ed7953\"],[0.7777777777777778,\"#fb9f3a\"],[0.8888888888888888,\"#fdca26\"],[1.0,\"#f0f921\"]],\"diverging\":[[0,\"#8e0152\"],[0.1,\"#c51b7d\"],[0.2,\"#de77ae\"],[0.3,\"#f1b6da\"],[0.4,\"#fde0ef\"],[0.5,\"#f7f7f7\"],[0.6,\"#e6f5d0\"],[0.7,\"#b8e186\"],[0.8,\"#7fbc41\"],[0.9,\"#4d9221\"],[1,\"#276419\"]]},\"xaxis\":{\"gridcolor\":\"white\",\"linecolor\":\"white\",\"ticks\":\"\",\"title\":{\"standoff\":15},\"zerolinecolor\":\"white\",\"automargin\":true,\"zerolinewidth\":2},\"yaxis\":{\"gridcolor\":\"white\",\"linecolor\":\"white\",\"ticks\":\"\",\"title\":{\"standoff\":15},\"zerolinecolor\":\"white\",\"automargin\":true,\"zerolinewidth\":2},\"scene\":{\"xaxis\":{\"backgroundcolor\":\"#E5ECF6\",\"gridcolor\":\"white\",\"linecolor\":\"white\",\"showbackground\":true,\"ticks\":\"\",\"zerolinecolor\":\"white\",\"gridwidth\":2},\"yaxis\":{\"backgroundcolor\":\"#E5ECF6\",\"gridcolor\":\"white\",\"linecolor\":\"white\",\"showbackground\":true,\"ticks\":\"\",\"zerolinecolor\":\"white\",\"gridwidth\":2},\"zaxis\":{\"backgroundcolor\":\"#E5ECF6\",\"gridcolor\":\"white\",\"linecolor\":\"white\",\"showbackground\":true,\"ticks\":\"\",\"zerolinecolor\":\"white\",\"gridwidth\":2}},\"shapedefaults\":{\"line\":{\"color\":\"#2a3f5f\"}},\"annotationdefaults\":{\"arrowcolor\":\"#2a3f5f\",\"arrowhead\":0,\"arrowwidth\":1},\"geo\":{\"bgcolor\":\"white\",\"landcolor\":\"#E5ECF6\",\"subunitcolor\":\"white\",\"showland\":true,\"showlakes\":true,\"lakecolor\":\"white\"},\"title\":{\"x\":0.05},\"mapbox\":{\"style\":\"light\"}}},\"xaxis\":{\"anchor\":\"y\",\"domain\":[0.0,1.0],\"title\":{\"text\":\"Month\"}},\"yaxis\":{\"anchor\":\"x\",\"domain\":[0.0,1.0],\"title\":{\"text\":\"Amount (PHP)\"}},\"legend\":{\"title\":{\"text\":\"Type\"},\"tracegroupgap\":0},\"margin\":{\"t\":60}},                        {\"responsive\": true}                    ).then(function(){\n",
       "                            \n",
       "var gd = document.getElementById('b65c4457-20f7-44cc-bc6a-3861f361c85a');\n",
       "var x = new MutationObserver(function (mutations, observer) {{\n",
       "        var display = window.getComputedStyle(gd).display;\n",
       "        if (!display || display === 'none') {{\n",
       "            console.log([gd, 'removed!']);\n",
       "            Plotly.purge(gd);\n",
       "            observer.disconnect();\n",
       "        }}\n",
       "}});\n",
       "\n",
       "// Listen for the removal of the full notebook cells\n",
       "var notebookContainer = gd.closest('#notebook-container');\n",
       "if (notebookContainer) {{\n",
       "    x.observe(notebookContainer, {childList: true});\n",
       "}}\n",
       "\n",
       "// Listen for the clearing of the current output cell\n",
       "var outputEl = gd.closest('.output');\n",
       "if (outputEl) {{\n",
       "    x.observe(outputEl, {childList: true});\n",
       "}}\n",
       "\n",
       "                        })                };                });            </script>        </div>"
      ]
     },
     "metadata": {},
     "output_type": "display_data"
    }
   ],
   "source": [
    "fig = px.line(df, x=\"Month\", y=\"Amount\", color=\"Type\", hover_data=[\"Amount\"], labels = {\"Amount\" : \"Amount (PHP)\"})\n",
    "fig.show()"
   ]
  },
  {
   "cell_type": "code",
   "execution_count": null,
   "id": "fb5bbf9c-50ff-4ea2-8909-d4f205313b91",
   "metadata": {},
   "outputs": [],
   "source": []
  }
 ],
 "metadata": {
  "kernelspec": {
   "display_name": ".venv",
   "language": "python",
   "name": ".venv"
  },
  "language_info": {
   "codemirror_mode": {
    "name": "ipython",
    "version": 3
   },
   "file_extension": ".py",
   "mimetype": "text/x-python",
   "name": "python",
   "nbconvert_exporter": "python",
   "pygments_lexer": "ipython3",
   "version": "3.10.4"
  }
 },
 "nbformat": 4,
 "nbformat_minor": 5
}
