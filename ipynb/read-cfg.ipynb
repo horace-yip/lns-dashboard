{
 "cells": [
  {
   "cell_type": "code",
   "execution_count": 14,
   "id": "e0e633cd-7412-4f69-99f2-002b27782af6",
   "metadata": {},
   "outputs": [
    {
     "name": "stdout",
     "output_type": "stream",
     "text": [
      "select trans_month_num, sum(trans_amount_php) as Amount\n",
      "from journal_view_1 where trans_year = %s and trans_type = 'Income' group by 1 order by 1\n"
     ]
    }
   ],
   "source": [
    "import configparser as cp\n",
    "config = cp.ConfigParser()\n",
    "config.read(\"..\\config.ini\")\n",
    "# %% to escape %\n",
    "long = config.get(\"SQL\", \"income-cy\")\n",
    "print(long)"
   ]
  },
  {
   "cell_type": "code",
   "execution_count": null,
   "id": "8153ebd4-850d-4cd7-92d7-6bf7ad9d37e8",
   "metadata": {},
   "outputs": [],
   "source": []
  }
 ],
 "metadata": {
  "kernelspec": {
   "display_name": ".venv",
   "language": "python",
   "name": ".venv"
  },
  "language_info": {
   "codemirror_mode": {
    "name": "ipython",
    "version": 3
   },
   "file_extension": ".py",
   "mimetype": "text/x-python",
   "name": "python",
   "nbconvert_exporter": "python",
   "pygments_lexer": "ipython3",
   "version": "3.10.4"
  }
 },
 "nbformat": 4,
 "nbformat_minor": 5
}
